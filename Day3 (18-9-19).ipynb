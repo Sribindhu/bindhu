{
 "cells": [
  {
   "cell_type": "markdown",
   "metadata": {},
   "source": [
    "### Programming in python with strings\n",
    "- Strings\n",
    "- String silicing\n",
    "- Fundamental Programs and examples with strings"
   ]
  },
  {
   "cell_type": "code",
   "execution_count": 2,
   "metadata": {},
   "outputs": [
    {
     "name": "stdout",
     "output_type": "stream",
     "text": [
      "Python\n",
      "programming\n",
      "A\n",
      "<class 'str'>\n",
      "<class 'str'>\n",
      "<class 'str'>\n"
     ]
    }
   ],
   "source": [
    "s1 = 'Python'\n",
    "s2 = \"programming\"\n",
    "s3 = 'A'\n",
    "print(s1)\n",
    "print(s2)\n",
    "print(s3)\n",
    "print(type(s1))\n",
    "print(type(s2))\n",
    "print(type(s3))"
   ]
  },
  {
   "cell_type": "markdown",
   "metadata": {},
   "source": [
    "#### String silicing"
   ]
  },
  {
   "cell_type": "code",
   "execution_count": 4,
   "metadata": {},
   "outputs": [
    {
     "name": "stdout",
     "output_type": "stream",
     "text": [
      "p\n",
      "y\n",
      "6\n",
      "n\n",
      "n\n",
      "o\n"
     ]
    }
   ],
   "source": [
    "s1 = \"python\"\n",
    "print(s1[0]) # accessing the first character in a string\n",
    "print(s1[1]) # accessing the second character in a string\n",
    "print(len(s1)) # len of string\n",
    "print(s1[len(s1)-1]) # access the last character of the string\n",
    "print(s1[-1]) # another way to access the last character\n",
    "print(s1[-2])\n"
   ]
  },
  {
   "cell_type": "code",
   "execution_count": 5,
   "metadata": {},
   "outputs": [
    {
     "name": "stdout",
     "output_type": "stream",
     "text": [
      "py\n",
      "on\n",
      "hon\n",
      "tho\n",
      "ytho\n"
     ]
    }
   ],
   "source": [
    "print(s1[0:2]) # access the first characters\n",
    "print(s1[-2:]) # access the last two characters\n",
    "print(s1[3:]) # access the characters from 3 till last\n",
    "print(s1[2:5]) # access the characters from 2 to 5\n",
    "print(s1[1:-1]) # all the characters except 1st and last character"
   ]
  },
  {
   "cell_type": "code",
   "execution_count": 9,
   "metadata": {},
   "outputs": [
    {
     "name": "stdout",
     "output_type": "stream",
     "text": [
      "nohtyp\n"
     ]
    }
   ],
   "source": [
    "print(s1[-1::-1]) # reverse the string"
   ]
  },
  {
   "cell_type": "code",
   "execution_count": 11,
   "metadata": {},
   "outputs": [
    {
     "data": {
      "text/plain": [
       "'pto'"
      ]
     },
     "execution_count": 11,
     "metadata": {},
     "output_type": "execute_result"
    }
   ],
   "source": [
    "# access the  characters string alternate\n",
    "# python -- pto\n",
    "s1[::2]"
   ]
  },
  {
   "cell_type": "code",
   "execution_count": 13,
   "metadata": {},
   "outputs": [
    {
     "data": {
      "text/plain": [
       "'nhy'"
      ]
     },
     "execution_count": 13,
     "metadata": {},
     "output_type": "execute_result"
    }
   ],
   "source": [
    "# access the alternate characters from reverse direction\n",
    "# python -- nhy\n",
    "s1[::-2]"
   ]
  },
  {
   "cell_type": "code",
   "execution_count": 15,
   "metadata": {},
   "outputs": [
    {
     "data": {
      "text/plain": [
       "'ph'"
      ]
     },
     "execution_count": 15,
     "metadata": {},
     "output_type": "execute_result"
    }
   ],
   "source": [
    "s1[::3]"
   ]
  },
  {
   "cell_type": "markdown",
   "metadata": {},
   "source": [
    "### Functions with string operations "
   ]
  },
  {
   "cell_type": "code",
   "execution_count": 17,
   "metadata": {},
   "outputs": [
    {
     "data": {
      "text/plain": [
       "'nohtyP'"
      ]
     },
     "execution_count": 17,
     "metadata": {},
     "output_type": "execute_result"
    }
   ],
   "source": [
    "# reverse the string\n",
    "def reverseStr(s):\n",
    "    return s[-1::-1]\n",
    "reverseStr('Python')"
   ]
  },
  {
   "cell_type": "code",
   "execution_count": 20,
   "metadata": {},
   "outputs": [
    {
     "name": "stdout",
     "output_type": "stream",
     "text": [
      "False\n",
      "True\n"
     ]
    }
   ],
   "source": [
    "# to check the given string is palindrome  or not a palindrome\n",
    "def ispalindrome(s):\n",
    "    if s == s[-1::-1]:\n",
    "        return True\n",
    "    return False\n",
    "print(ispalindrome('Python'))\n",
    "print(ispalindrome('ganag'))\n"
   ]
  },
  {
   "cell_type": "code",
   "execution_count": 22,
   "metadata": {},
   "outputs": [
    {
     "name": "stdout",
     "output_type": "stream",
     "text": [
      "PT"
     ]
    }
   ],
   "source": [
    "# Function to print the upper case characters\n",
    "# example : python -- P T\n",
    "\n",
    "# ASCII\n",
    "# A - Z : 65 - 90\n",
    "# a - z : 97 - 122\n",
    "# 0 - 9 : 48 - 57\n",
    "# space : 32\n",
    "def printUpper(s):\n",
    "    for i in range(len(s)):\n",
    "        if ord(s[i]) >= 65 and ord(s[i]) <= 90:\n",
    "            print(s[i],end='')\n",
    "    return\n",
    "printUpper('PyThon') # P T           "
   ]
  },
  {
   "cell_type": "code",
   "execution_count": 24,
   "metadata": {},
   "outputs": [
    {
     "data": {
      "text/plain": [
       "97"
      ]
     },
     "execution_count": 24,
     "metadata": {},
     "output_type": "execute_result"
    }
   ],
   "source": [
    "ord('a') # ord() function gives the output as number which is equ to Ascii number"
   ]
  },
  {
   "cell_type": "code",
   "execution_count": 27,
   "metadata": {},
   "outputs": [
    {
     "data": {
      "text/plain": [
       "'SameCount'"
      ]
     },
     "execution_count": 27,
     "metadata": {},
     "output_type": "execute_result"
    }
   ],
   "source": [
    "# Function to return the output as \"samecount\" or programming\n",
    "# samecount -- lower and upper chars have same count\n",
    "# programming -- count of lower and upper case is not same\n",
    "\n",
    "# example #1 : PyThOn -- 3  P T O\n",
    "#                     -- 3 y h n\n",
    "# output : samecount\n",
    "\n",
    "# example #2 : PythoN -- 2 P N\n",
    "#                     -- 4 y t h o\n",
    "# output : programming\n",
    "def findCharCount(s):\n",
    "    cntUpper = 0\n",
    "    cntLower = 0\n",
    "    for  i in range(len(s)):\n",
    "        if ord(s[i]) >= 65 and ord(s[i]) <= 90:\n",
    "            cntUpper += 1 # cntUpper = cntUpper + 1\n",
    "        elif ord(s[i]) >= 97 and ord(s[i]) <= 122:\n",
    "            cntLower += 1 # cntLower = cntLower + 1\n",
    "    if cntLower == cntUpper:\n",
    "        return \"SameCount\"\n",
    "    return \"Programming\"\n",
    "findCharCount('PyThoN')\n",
    "\n"
   ]
  },
  {
   "cell_type": "code",
   "execution_count": 29,
   "metadata": {},
   "outputs": [
    {
     "name": "stdout",
     "output_type": "stream",
     "text": [
      "1889"
     ]
    }
   ],
   "source": [
    "# Function to extract the digits from the string\n",
    "# example #1:\n",
    "# input : Appli18cation89\n",
    "# output : 1 8 8 9\n",
    "def extractDigits(s):\n",
    "    for i in range(len(s)):\n",
    "        if ord(s[i]) >= 48 and ord(s[i]) <= 57:\n",
    "            print(s[i],end='')\n",
    "    return\n",
    "extractDigits('Appli18cation89')"
   ]
  },
  {
   "cell_type": "code",
   "execution_count": 35,
   "metadata": {},
   "outputs": [
    {
     "data": {
      "text/plain": [
       "26"
      ]
     },
     "execution_count": 35,
     "metadata": {},
     "output_type": "execute_result"
    }
   ],
   "source": [
    "# function to the odd the digits of the string\n",
    "# example #1:\n",
    "# input : Appli18cation89\n",
    "# output : 26(1+8+8+9)\n",
    "def sumofDigits(s):\n",
    "    sum = 0\n",
    "    for i in range(len(s)):\n",
    "        if ord(s[i]) >= 48 and ord(s[i]) <= 57:\n",
    "            sum = sum + (ord(s[i])-48)\n",
    "    return sum\n",
    "sumofDigits('Appli18cation89')\n",
    "        \n"
   ]
  },
  {
   "cell_type": "code",
   "execution_count": 42,
   "metadata": {},
   "outputs": [
    {
     "name": "stdout",
     "output_type": "stream",
     "text": [
      "MADE"
     ]
    }
   ],
   "source": [
    "# function to 2nd word in Upper case\n",
    "# exmaple #1:\n",
    "# input : Python Made Easy\n",
    "# output : MADE\n",
    "\n",
    "# example #2:\n",
    "# input : Learn Python Strings\n",
    "# output : PYTHON\n",
    "def wordUpperCase(s):\n",
    "    cntSpace = 0\n",
    "    for i in range(len(s)):\n",
    "        if ord(s[i]) == 32 :\n",
    "            cntSpace += 1\n",
    "        if cntSpace == 1:\n",
    "            if ord(s[i]) >= 65 and ord(s[i]) <= 90:\n",
    "                print(s[i],end='')\n",
    "            elif ord(s[i]) >= 97 and ord(s[i]) <= 122:\n",
    "                print(chr(ord(s[i])-32),end='')\n",
    "        if cntSpace == 2:\n",
    "            break\n",
    "    return\n",
    "wordUpperCase('Python Made Easy') "
   ]
  },
  {
   "cell_type": "markdown",
   "metadata": {},
   "source": [
    "### List\n",
    "- one of the datastructure in python\n",
    "- data structure means to store, sort and search options\n",
    "- its one common data structure in python,the items of list seperated by comma and enclosed in square brackets[]\n",
    "- example\n",
    "  - list1=[1,2,3,4,5]\n",
    "  - list2=[\"Gitam\",1.2,1.89,\"vizag\"]"
   ]
  },
  {
   "cell_type": "code",
   "execution_count": 44,
   "metadata": {},
   "outputs": [
    {
     "name": "stdout",
     "output_type": "stream",
     "text": [
      "[1, 8, 16, 9, 2]\n",
      "1\n",
      "8\n",
      "2\n",
      "9\n"
     ]
    }
   ],
   "source": [
    "li = [1,8,16,9,2]\n",
    "print(li) # will print the all the list items\n",
    "print(li[0]) # access the first item of the list\n",
    "print(li[1]) # access the second item of the list\n",
    "print(li[-1]) # access the last item of the list\n",
    "print(li[-2]) # access the last second item of list"
   ]
  },
  {
   "cell_type": "code",
   "execution_count": 47,
   "metadata": {},
   "outputs": [
    {
     "name": "stdout",
     "output_type": "stream",
     "text": [
      "['Gitam', 1582, 2018, 2019, 'Vizag']\n",
      "['Gitam', 1234, 2018, 2019, 'Vizag']\n"
     ]
    }
   ],
   "source": [
    "li = [\"Gitam\",1582,2018,2019,\"Vizag\"]\n",
    "print(li)\n",
    "# update the list item with value using index\n",
    "li[1] = 1234\n",
    "print(li)"
   ]
  },
  {
   "cell_type": "code",
   "execution_count": 49,
   "metadata": {},
   "outputs": [
    {
     "name": "stdout",
     "output_type": "stream",
     "text": [
      "['Gitam', 1234, 2018]\n"
     ]
    }
   ],
   "source": [
    "# delete the list item from the list\n",
    "del li[3]\n",
    "print(li)"
   ]
  },
  {
   "cell_type": "code",
   "execution_count": 51,
   "metadata": {},
   "outputs": [
    {
     "name": "stdout",
     "output_type": "stream",
     "text": [
      "5\n",
      "[1, 2, 3, 4, 5, 1, 2, 3, 4, 5]\n",
      "True\n",
      "False\n",
      "12345\n",
      "12345"
     ]
    }
   ],
   "source": [
    "# basic list operations\n",
    "li = [1,2,3,4,5]\n",
    "# len of the list\n",
    "print(len(li))\n",
    "# list repitation\n",
    "print(li * 2)\n",
    "# to know certain item is present in the list or not\n",
    "print(4 in li)\n",
    "print(10 in li)\n",
    "# access the list items from the iterations\n",
    "# 1 way to define\n",
    "for i in range(len(li)):\n",
    "    print(li[i],end='')\n",
    "print()\n",
    "# 2 way to print the list items\n",
    "for i in li:\n",
    "    print(i,end='')"
   ]
  },
  {
   "cell_type": "code",
   "execution_count": 53,
   "metadata": {},
   "outputs": [
    {
     "name": "stdout",
     "output_type": "stream",
     "text": [
      "25\n",
      "1\n",
      "56\n",
      "11\n"
     ]
    }
   ],
   "source": [
    "# basic list functions\n",
    "li = [1,9,16,25,5]\n",
    "print(max(li)) # max num of the list\n",
    "print(min(li)) # min num of the list\n",
    "print(sum(li)) # sum of all list items\n",
    "print(sum(li)//len(li)) # avg of list items\n"
   ]
  },
  {
   "cell_type": "code",
   "execution_count": 55,
   "metadata": {},
   "outputs": [
    {
     "data": {
      "text/plain": [
       "2"
      ]
     },
     "execution_count": 55,
     "metadata": {},
     "output_type": "execute_result"
    }
   ],
   "source": [
    "# methods of list\n",
    "li = [1,9,16,25,5]\n",
    "li.append(29) # add the new item at the end of list\n",
    "li.insert(2,56) # add the new item at the specific index\n",
    "li.append(9)\n",
    "li.count(9) # returns the value how many object repeated\n",
    "li.index(56) # return the value at the index"
   ]
  },
  {
   "cell_type": "code",
   "execution_count": 57,
   "metadata": {},
   "outputs": [
    {
     "data": {
      "text/plain": [
       "[1, 9, 16, 25]"
      ]
     },
     "execution_count": 57,
     "metadata": {},
     "output_type": "execute_result"
    }
   ],
   "source": [
    "# method of lisr object\n",
    "li.sort() # sorts the list in ascending order\n",
    "li.pop() # last index value\n",
    "li.pop(1) # removes the items from specified object\n",
    "li"
   ]
  },
  {
   "cell_type": "code",
   "execution_count": 60,
   "metadata": {},
   "outputs": [
    {
     "name": "stdout",
     "output_type": "stream",
     "text": [
      "45\n",
      "22\n"
     ]
    }
   ],
   "source": [
    "# function to return the large number from the list\n",
    "def largeNumber(li):\n",
    "    li.sort()\n",
    "    return li[-1]\n",
    "def genericLarge(li,n):\n",
    "    li.sort()\n",
    "    return li[-n]\n",
    "li = [19,1,25,6,9,45,22]\n",
    "print(largeNumber(li))\n",
    "print(genericLarge(li,3))"
   ]
  },
  {
   "cell_type": "code",
   "execution_count": 63,
   "metadata": {},
   "outputs": [
    {
     "name": "stdout",
     "output_type": "stream",
     "text": [
      "1\n",
      "19\n"
     ]
    }
   ],
   "source": [
    "# function to find least and generic least number from the list\n",
    "def leastNumber(li):\n",
    "    li.sort()\n",
    "    return li[0]\n",
    "def genericLeastNumbers(li,n):\n",
    "    li.sort()\n",
    "    return li[n-1]\n",
    "li = [19,1,25,6,9,45,22]\n",
    "print(leastNumber(li))\n",
    "print(genericLeastNumbers(li,4))"
   ]
  },
  {
   "cell_type": "markdown",
   "metadata": {},
   "source": [
    "### File Handling in python\n",
    "- file - document which comntains some information and resides on permanent devices\n",
    "- different types of file -- .txt,.pdf,.doc,.ppf and etc....\n",
    "- input -- keyboard\n",
    "- output - file system\n"
   ]
  },
  {
   "cell_type": "code",
   "execution_count": 66,
   "metadata": {},
   "outputs": [
    {
     "name": "stdout",
     "output_type": "stream",
     "text": [
      "File is successfully created and Data has inserted \n"
     ]
    }
   ],
   "source": [
    "# function to create file and write some data to the file\n",
    "# Mode -- w(it creates the file and write to the same data)\n",
    "#         if the file already exists with the same name then it will rewrite the data\n",
    "def createFile(filename):\n",
    "    f = open(filename,'w')\n",
    "    for i in range(10):\n",
    "        f.write('This is %d line \\n' % i)\n",
    "    print('File is successfully created and Data has inserted ')    \n",
    "    return\n",
    "createFile('data.txt')\n"
   ]
  },
  {
   "cell_type": "code",
   "execution_count": 68,
   "metadata": {},
   "outputs": [
    {
     "data": {
      "text/plain": [
       "'C:\\\\Users\\\\cse319\\\\Python'"
      ]
     },
     "execution_count": 68,
     "metadata": {},
     "output_type": "execute_result"
    }
   ],
   "source": [
    "pwd"
   ]
  },
  {
   "cell_type": "code",
   "execution_count": 70,
   "metadata": {},
   "outputs": [
    {
     "name": "stdout",
     "output_type": "stream",
     "text": [
      "program completed successfully\n"
     ]
    }
   ],
   "source": [
    "# mode -- a (if the file is not available it creates the file)\n",
    "#       -- if the file is already present with the same name\n",
    "#     -- append the data at the end of the previous line\n",
    "def appendMode(filename):\n",
    "    f = open (filename,'a')\n",
    "    f.write('Gitam Vizag\\n')\n",
    "    f.write('Python programming\\n')\n",
    "    print('program completed successfully')\n",
    "    return\n",
    "appendMode('data.txt')\n",
    "    "
   ]
  },
  {
   "cell_type": "code",
   "execution_count": 72,
   "metadata": {},
   "outputs": [
    {
     "name": "stdout",
     "output_type": "stream",
     "text": [
      "This is 0 line \n",
      "This is 1 line \n",
      "This is 2 line \n",
      "This is 3 line \n",
      "This is 4 line \n",
      "This is 5 line \n",
      "This is 6 line \n",
      "This is 7 line \n",
      "This is 8 line \n",
      "This is 9 line \n",
      "Gitam Vizag\n",
      "Python programming\n",
      "Gitam Vizag\n",
      "Python programming\n",
      "\n"
     ]
    }
   ],
   "source": [
    "# function to read the file\n",
    "def readFileData(filename):\n",
    "    f = open(filename,'r')\n",
    "    if f.mode == 'r':\n",
    "        a = f.read()\n",
    "        print(a)\n",
    "    f.close()\n",
    "    return\n",
    "readFileData('data.txt')\n",
    "        "
   ]
  },
  {
   "cell_type": "code",
   "execution_count": 74,
   "metadata": {},
   "outputs": [
    {
     "name": "stdout",
     "output_type": "stream",
     "text": [
      "['python', 'programming']\n"
     ]
    }
   ],
   "source": [
    "# Analysis on the file -- word count,char count,digit count\n",
    "s1 = \"python programming\"\n",
    "print(s1.split())"
   ]
  },
  {
   "cell_type": "code",
   "execution_count": 77,
   "metadata": {},
   "outputs": [
    {
     "data": {
      "text/plain": [
       "48"
      ]
     },
     "execution_count": 77,
     "metadata": {},
     "output_type": "execute_result"
    }
   ],
   "source": [
    "# word count -- input file\n",
    "def wordCount(filename):\n",
    "    with open(filename,'r') as f:\n",
    "        if f.mode == 'r':\n",
    "            a = f.read()\n",
    "            li = a.split() # divides the words by using white space\n",
    "    return len(li)\n",
    "wordCount('data.txt')"
   ]
  },
  {
   "cell_type": "code",
   "execution_count": 81,
   "metadata": {},
   "outputs": [
    {
     "data": {
      "text/plain": [
       "10"
      ]
     },
     "execution_count": 81,
     "metadata": {},
     "output_type": "execute_result"
    }
   ],
   "source": [
    "# specific word count from the file\n",
    "# example #1:\n",
    "# input -- This\n",
    "# output -- 10\n",
    "\n",
    "# example #2:\n",
    "# input -- Gitam\n",
    "# output -- 1\n",
    "def specificwordCount(filename,word):\n",
    "    with open(filename,'r') as f:\n",
    "        if f.mode == 'r':\n",
    "            a = f.read()\n",
    "            li = a.split()\n",
    "    return li.count(word)\n",
    "specificwordCount('data.txt','This')"
   ]
  },
  {
   "cell_type": "code",
   "execution_count": 83,
   "metadata": {},
   "outputs": [
    {
     "data": {
      "text/plain": [
       "222"
      ]
     },
     "execution_count": 83,
     "metadata": {},
     "output_type": "execute_result"
    }
   ],
   "source": [
    "# function to find the character count from the input file\n",
    "def charCount(filename):\n",
    "    with open(filename,'r') as f:\n",
    "        if f.mode == 'r':\n",
    "            a = f.read()\n",
    "            li = list(a)\n",
    "            return len(li)\n",
    "charCount('data.txt')"
   ]
  },
  {
   "cell_type": "code",
   "execution_count": 85,
   "metadata": {},
   "outputs": [
    {
     "data": {
      "text/plain": [
       "15"
      ]
     },
     "execution_count": 85,
     "metadata": {},
     "output_type": "execute_result"
    }
   ],
   "source": [
    "# find no of  lines or rows in the given input stream\n",
    "def findLineCount(filename):\n",
    "    with open(filename,'r') as f:\n",
    "        if f.mode == 'r':\n",
    "            a = f.read()\n",
    "            li = a.split('\\n')\n",
    "            return len(li)\n",
    "findLineCount('data.txt')        \n",
    "        "
   ]
  },
  {
   "cell_type": "code",
   "execution_count": null,
   "metadata": {},
   "outputs": [],
   "source": [
    "# function to find  upper and lowercase characters\n",
    "#from the input stream\n",
    "def caseCount(filename):\n",
    "    cntUpper = 0\n",
    "    cntLower = 0\n",
    "    cntDigit = 0\n",
    "    with open(filename,'r') as f:\n",
    "        if f.mode == 'r':\n",
    "            a = f.raed()\n",
    "            li = list((a))\n",
    "        for i in range(len(li)):\n",
    "            if ord(li[i]) >= 65 and ord(li[i]) <= 90:\n",
    "                cntUpper += 1\n",
    "            elif ord(li[i]) >= 97 and ord(li[i]) <= 122:\n",
    "                cntLower += 1\n",
    "                elif ord(li[i]) >= 48 and ord(li[i]) <= 57:\n",
    "                    cntDigit += 1\n",
    "                    output = 'Upper Case : {0} Lower Case : {1} Digit : {2}'.format(cntUpper,cntlower,cntDigit)\n",
    "                    return output\n",
    "caseCount('data.txt') \n",
    "                     \n",
    "                    \n",
    "            \n",
    "            "
   ]
  }
 ],
 "metadata": {
  "kernelspec": {
   "display_name": "Python 3",
   "language": "python",
   "name": "python3"
  },
  "language_info": {
   "codemirror_mode": {
    "name": "ipython",
    "version": 3
   },
   "file_extension": ".py",
   "mimetype": "text/x-python",
   "name": "python",
   "nbconvert_exporter": "python",
   "pygments_lexer": "ipython3",
   "version": "3.7.3"
  }
 },
 "nbformat": 4,
 "nbformat_minor": 2
}
